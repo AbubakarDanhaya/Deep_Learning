{
 "cells": [
  {
   "cell_type": "markdown",
   "id": "9cac9a76",
   "metadata": {},
   "source": [
    "# INTRODUCTION TO DEEP LEARNING WITH PYTORCH"
   ]
  },
  {
   "cell_type": "markdown",
   "id": "4bc990ea",
   "metadata": {},
   "source": [
    ">In this notebook, I am going to practice all what i have learnt for deep learning. "
   ]
  },
  {
   "cell_type": "markdown",
   "id": "9298f3be",
   "metadata": {},
   "source": [
    "#### `TENSOR`\n",
    "\n",
    " * Similar to array or matrix\n",
    " * Building block of neural network"
   ]
  },
  {
   "cell_type": "code",
   "execution_count": 1,
   "id": "7b6b624f",
   "metadata": {},
   "outputs": [
    {
     "name": "stdout",
     "output_type": "stream",
     "text": [
      "shape of the tensor: torch.Size([2, 3])\n",
      "dtype of the tensor: torch.int64\n"
     ]
    }
   ],
   "source": [
    "# import libraries\n",
    "import torch\n",
    "\n",
    "my_list = [[1, 2, 3], [4, 5, 6]]\n",
    "tensor = torch.tensor(my_list)\n",
    "\n",
    "print(\"shape of the tensor:\", tensor.shape)\n",
    "print(\"dtype of the tensor:\", tensor.dtype)"
   ]
  },
  {
   "cell_type": "markdown",
   "id": "ebf71f5a",
   "metadata": {},
   "source": [
    "#### `Single Linear Layer`"
   ]
  },
  {
   "cell_type": "code",
   "execution_count": 2,
   "id": "5b55dd00",
   "metadata": {},
   "outputs": [
    {
     "name": "stdout",
     "output_type": "stream",
     "text": [
      "tensor([[ 0.1910, -0.6155]], grad_fn=<AddmmBackward0>)\n"
     ]
    }
   ],
   "source": [
    "import torch.nn as nn\n",
    "\n",
    "input_tensor = torch.tensor([[0.3471, 0.4547, -0.2356]])\n",
    "\n",
    "linear_layer = nn.Linear(in_features = 3,\n",
    "                         out_features= 2)\n",
    "output = linear_layer(input_tensor)\n",
    "print(output)"
   ]
  },
  {
   "cell_type": "markdown",
   "id": "92d6c631",
   "metadata": {},
   "source": [
    "### `Addition of tensors`\n",
    "\n",
    "tensors can be added if the have same dimesion"
   ]
  },
  {
   "cell_type": "code",
   "execution_count": 3,
   "id": "d857acb6",
   "metadata": {},
   "outputs": [
    {
     "name": "stdout",
     "output_type": "stream",
     "text": [
      "tensor([[72, 75, 78],\n",
      "        [70, 73, 76]])\n"
     ]
    }
   ],
   "source": [
    "temperature = [[72, 75, 78], [70, 73, 76]]\n",
    "\n",
    "# Create a tensor from temperature\n",
    "temp_tensor = torch.tensor(temperature)\n",
    "print(temp_tensor)"
   ]
  },
  {
   "cell_type": "code",
   "execution_count": 4,
   "id": "78f85491",
   "metadata": {},
   "outputs": [
    {
     "name": "stdout",
     "output_type": "stream",
     "text": [
      "tensor([[74, 77, 80],\n",
      "        [72, 75, 78]])\n"
     ]
    }
   ],
   "source": [
    "adjustment = torch.tensor([[2, 2, 2], [2, 2, 2]])\n",
    "adjust_temp = temp_tensor + adjustment\n",
    "\n",
    "print(adjust_temp)"
   ]
  },
  {
   "cell_type": "code",
   "execution_count": 5,
   "id": "441f4819",
   "metadata": {},
   "outputs": [
    {
     "name": "stdout",
     "output_type": "stream",
     "text": [
      "tensor([[1.8131]], grad_fn=<AddmmBackward0>)\n"
     ]
    }
   ],
   "source": [
    "input_tensor = torch.Tensor([[2, 3, 6, 7, 9, 3, 2, 1]])\n",
    "\n",
    "# Create a container for stacking linear layers\n",
    "model = nn.Sequential(\n",
    "    nn.Linear(8, 4),\n",
    "    nn.Linear(4, 1)\n",
    ")\n",
    "\n",
    "output = model(input_tensor)\n",
    "print(output)"
   ]
  },
  {
   "cell_type": "code",
   "execution_count": 6,
   "id": "79ff6e62",
   "metadata": {},
   "outputs": [
    {
     "name": "stdout",
     "output_type": "stream",
     "text": [
      "tensor([[-1.2374,  1.3487]], grad_fn=<AddmmBackward0>)\n"
     ]
    }
   ],
   "source": [
    "input_tensor = torch.Tensor([[2, 7, 9, 5, 3]])\n",
    "\n",
    "#Create neural network with three hidden layers\n",
    "model = nn.Sequential(nn.Linear(5, 10),\n",
    "                      nn.Linear(10, 15),\n",
    "                      nn.Linear(15, 2))\n",
    "\n",
    "output = model(input_tensor)\n",
    "print(output)"
   ]
  },
  {
   "cell_type": "code",
   "execution_count": 7,
   "id": "0814d6e4",
   "metadata": {},
   "outputs": [
    {
     "name": "stdout",
     "output_type": "stream",
     "text": [
      "Total number of parameters: 41\n"
     ]
    }
   ],
   "source": [
    "model = nn.Sequential(nn.Linear(8, 4),\n",
    "                      nn.Linear(4, 1))\n",
    "\n",
    "# Calculate the number of parameters\n",
    "total_params = sum(p.numel() for p in model.parameters())\n",
    "print(f\"Total number of parameters: {total_params}\")"
   ]
  },
  {
   "cell_type": "markdown",
   "id": "28fb90da",
   "metadata": {},
   "source": [
    "### `Multiplication of matrix`\n",
    "\n",
    "* A * B is called elements wise multiplications\n",
    "* A @ B is called matrix multiplications\n",
    "  "
   ]
  },
  {
   "cell_type": "code",
   "execution_count": 8,
   "id": "3c5a9592",
   "metadata": {},
   "outputs": [
    {
     "name": "stdout",
     "output_type": "stream",
     "text": [
      "tensor([[144, 150, 156],\n",
      "        [140, 146, 152]])\n"
     ]
    }
   ],
   "source": [
    "print(temp_tensor * adjustment)"
   ]
  },
  {
   "cell_type": "markdown",
   "id": "51006b45",
   "metadata": {},
   "source": [
    "### `Sigmoid Activation`\n",
    "The sigmoid function is essential for binary classification."
   ]
  },
  {
   "cell_type": "code",
   "execution_count": 1,
   "id": "0a478a57",
   "metadata": {},
   "outputs": [
    {
     "name": "stdout",
     "output_type": "stream",
     "text": [
      "tensor([0.9975])\n"
     ]
    }
   ],
   "source": [
    "import torch\n",
    "import torch.nn as nn\n",
    "\n",
    "input_tensor = torch.tensor([6.0])\n",
    "\n",
    "# Apply sigmoid activation function\n",
    "sigmoid = nn.Sigmoid()\n",
    "output = sigmoid(input_tensor)\n",
    "print(output)"
   ]
  },
  {
   "cell_type": "markdown",
   "id": "bb2f0354",
   "metadata": {},
   "source": [
    "This value indicates a high likelihood of the input belonging to the positive class\n",
    "\n",
    "### `Softmax`\n",
    "The softmax activation function is use for multi-class classification problems."
   ]
  },
  {
   "cell_type": "code",
   "execution_count": 3,
   "id": "77a6dce6",
   "metadata": {},
   "outputs": [
    {
     "name": "stdout",
     "output_type": "stream",
     "text": [
      "tensor([0.0420, 0.1142, 0.8438])\n"
     ]
    }
   ],
   "source": [
    "input_tensor = torch.tensor([2.0, 3.0, 5.0])\n",
    "\n",
    "# Applying sofmax activation function\n",
    "softmax = nn.Softmax(dim=-1)\n",
    "output = softmax(input_tensor)\n",
    "print(output)"
   ]
  },
  {
   "cell_type": "markdown",
   "id": "9fc620a1",
   "metadata": {},
   "source": [
    "### `Neural Networks and Activation Functions`"
   ]
  },
  {
   "cell_type": "code",
   "execution_count": 5,
   "id": "816f1105",
   "metadata": {},
   "outputs": [
    {
     "name": "stdout",
     "output_type": "stream",
     "text": [
      "tensor([[0.4445]], grad_fn=<SigmoidBackward0>)\n"
     ]
    }
   ],
   "source": [
    "model= nn.Sequential(nn.Linear(3, 1),\n",
    "                     nn.Sigmoid())\n",
    "\n",
    "input_tensor = torch.tensor([[1.0, 0.0, 1.0]])\n",
    "\n",
    "output = model(input_tensor)\n",
    "print(output)"
   ]
  },
  {
   "cell_type": "markdown",
   "id": "e291419d",
   "metadata": {},
   "source": [
    "### `Running a Forward Pass`"
   ]
  },
  {
   "cell_type": "code",
   "execution_count": 10,
   "id": "1073905b",
   "metadata": {},
   "outputs": [
    {
     "name": "stdout",
     "output_type": "stream",
     "text": [
      "tensor([[0.4633],\n",
      "        [0.5607],\n",
      "        [0.6028],\n",
      "        [0.7641],\n",
      "        [0.4234]], grad_fn=<SigmoidBackward0>)\n"
     ]
    }
   ],
   "source": [
    "class SimpleNet(nn.Module):\n",
    "    def __init__(self):\n",
    "        super(SimpleNet, self).__init__()\n",
    "        self.layer1 = nn.Linear(6, 4)\n",
    "        self.layer2 = nn.Linear(4, 1)\n",
    "        self.sigmoid = nn.Sigmoid()\n",
    "\n",
    "    def forward(self, x):\n",
    "        x = self.layer1(x)\n",
    "        x = self.layer2(x)\n",
    "        x = self.sigmoid(x)\n",
    "        return x\n",
    "    \n",
    "# Example input data: 5 animals with 6 features each\n",
    "input_data = torch.randn(5, 6)\n",
    "model = SimpleNet()\n",
    "output = model(input_data)\n",
    "print(output)"
   ]
  },
  {
   "cell_type": "markdown",
   "id": "3686fc61",
   "metadata": {},
   "source": [
    "The output is a tensor of probabilities for each animal being mammal. Probabilities above 0.5 are classified as `mammals`"
   ]
  },
  {
   "cell_type": "code",
   "execution_count": null,
   "id": "0cd10a07",
   "metadata": {},
   "outputs": [],
   "source": []
  },
  {
   "cell_type": "code",
   "execution_count": null,
   "id": "60b0331c",
   "metadata": {},
   "outputs": [],
   "source": []
  }
 ],
 "metadata": {
  "kernelspec": {
   "display_name": "base",
   "language": "python",
   "name": "python3"
  },
  "language_info": {
   "codemirror_mode": {
    "name": "ipython",
    "version": 3
   },
   "file_extension": ".py",
   "mimetype": "text/x-python",
   "name": "python",
   "nbconvert_exporter": "python",
   "pygments_lexer": "ipython3",
   "version": "3.12.7"
  }
 },
 "nbformat": 4,
 "nbformat_minor": 5
}
