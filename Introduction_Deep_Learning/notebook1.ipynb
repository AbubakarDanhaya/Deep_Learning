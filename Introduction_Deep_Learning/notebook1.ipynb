{
 "cells": [
  {
   "cell_type": "markdown",
   "id": "9cac9a76",
   "metadata": {},
   "source": [
    "# INTRODUCTION TO DEEP LEARNING WITH PYTORCH"
   ]
  },
  {
   "cell_type": "markdown",
   "id": "4bc990ea",
   "metadata": {},
   "source": [
    ">In this notebook, I am going to practice all what i have learnt for deep learning. "
   ]
  },
  {
   "cell_type": "markdown",
   "id": "9298f3be",
   "metadata": {},
   "source": [
    "#### `TENSOR`\n",
    "\n",
    " * Similar to array or matrix\n",
    " * Building block of neural network"
   ]
  },
  {
   "cell_type": "code",
   "execution_count": 1,
   "id": "7b6b624f",
   "metadata": {},
   "outputs": [
    {
     "name": "stdout",
     "output_type": "stream",
     "text": [
      "shape of the tensor: torch.Size([2, 3])\n",
      "dtype of the tensor: torch.int64\n"
     ]
    }
   ],
   "source": [
    "# import libraries\n",
    "import torch\n",
    "\n",
    "my_list = [[1, 2, 3], [4, 5, 6]]\n",
    "tensor = torch.tensor(my_list)\n",
    "\n",
    "print(\"shape of the tensor:\", tensor.shape)\n",
    "print(\"dtype of the tensor:\", tensor.dtype)"
   ]
  },
  {
   "cell_type": "markdown",
   "id": "ebf71f5a",
   "metadata": {},
   "source": [
    "#### `Single Linear Layer`"
   ]
  },
  {
   "cell_type": "code",
   "execution_count": 2,
   "id": "5b55dd00",
   "metadata": {},
   "outputs": [
    {
     "name": "stdout",
     "output_type": "stream",
     "text": [
      "tensor([[-0.0111, -0.8740]], grad_fn=<AddmmBackward0>)\n"
     ]
    }
   ],
   "source": [
    "import torch.nn as nn\n",
    "\n",
    "input_tensor = torch.tensor([[0.3471, 0.4547, -0.2356]])\n",
    "\n",
    "linear_layer = nn.Linear(in_features = 3,\n",
    "                         out_features= 2)\n",
    "output = linear_layer(input_tensor)\n",
    "print(output)"
   ]
  },
  {
   "cell_type": "markdown",
   "id": "92d6c631",
   "metadata": {},
   "source": [
    "### `Addition of tensors`\n",
    "\n",
    "tensors can be added if the have same dimesion"
   ]
  },
  {
   "cell_type": "code",
   "execution_count": 3,
   "id": "d857acb6",
   "metadata": {},
   "outputs": [
    {
     "name": "stdout",
     "output_type": "stream",
     "text": [
      "tensor([[72, 75, 78],\n",
      "        [70, 73, 76]])\n"
     ]
    }
   ],
   "source": [
    "temperature = [[72, 75, 78], [70, 73, 76]]\n",
    "\n",
    "# Create a tensor from temperature\n",
    "temp_tensor = torch.tensor(temperature)\n",
    "print(temp_tensor)"
   ]
  },
  {
   "cell_type": "code",
   "execution_count": 4,
   "id": "78f85491",
   "metadata": {},
   "outputs": [
    {
     "name": "stdout",
     "output_type": "stream",
     "text": [
      "tensor([[74, 77, 80],\n",
      "        [72, 75, 78]])\n"
     ]
    }
   ],
   "source": [
    "adjustment = torch.tensor([[2, 2, 2], [2, 2, 2]])\n",
    "adjust_temp = temp_tensor + adjustment\n",
    "\n",
    "print(adjust_temp)"
   ]
  },
  {
   "cell_type": "code",
   "execution_count": 5,
   "id": "441f4819",
   "metadata": {},
   "outputs": [
    {
     "name": "stdout",
     "output_type": "stream",
     "text": [
      "tensor([[1.0628]], grad_fn=<AddmmBackward0>)\n"
     ]
    }
   ],
   "source": [
    "input_tensor = torch.Tensor([[2, 3, 6, 7, 9, 3, 2, 1]])\n",
    "\n",
    "# Create a container for stacking linear layers\n",
    "model = nn.Sequential(\n",
    "    nn.Linear(8, 4),\n",
    "    nn.Linear(4, 1)\n",
    ")\n",
    "\n",
    "output = model(input_tensor)\n",
    "print(output)"
   ]
  },
  {
   "cell_type": "code",
   "execution_count": 6,
   "id": "79ff6e62",
   "metadata": {},
   "outputs": [
    {
     "name": "stdout",
     "output_type": "stream",
     "text": [
      "tensor([[0.0745, 0.9390]], grad_fn=<AddmmBackward0>)\n"
     ]
    }
   ],
   "source": [
    "input_tensor = torch.Tensor([[2, 7, 9, 5, 3]])\n",
    "\n",
    "#Create neural network with three hidden layers\n",
    "model = nn.Sequential(nn.Linear(5, 10),\n",
    "                      nn.Linear(10, 15),\n",
    "                      nn.Linear(15, 2))\n",
    "\n",
    "output = model(input_tensor)\n",
    "print(output)"
   ]
  },
  {
   "cell_type": "code",
   "execution_count": 7,
   "id": "0814d6e4",
   "metadata": {},
   "outputs": [
    {
     "name": "stdout",
     "output_type": "stream",
     "text": [
      "Total number of parameters: 41\n"
     ]
    }
   ],
   "source": [
    "model = nn.Sequential(nn.Linear(8, 4),\n",
    "                      nn.Linear(4, 1))\n",
    "\n",
    "# Calculate the number of parameters\n",
    "total_params = sum(p.numel() for p in model.parameters())\n",
    "print(f\"Total number of parameters: {total_params}\")"
   ]
  },
  {
   "cell_type": "code",
   "execution_count": null,
   "id": "3c5a9592",
   "metadata": {},
   "outputs": [],
   "source": []
  }
 ],
 "metadata": {
  "kernelspec": {
   "display_name": "base",
   "language": "python",
   "name": "python3"
  },
  "language_info": {
   "codemirror_mode": {
    "name": "ipython",
    "version": 3
   },
   "file_extension": ".py",
   "mimetype": "text/x-python",
   "name": "python",
   "nbconvert_exporter": "python",
   "pygments_lexer": "ipython3",
   "version": "3.12.7"
  }
 },
 "nbformat": 4,
 "nbformat_minor": 5
}
