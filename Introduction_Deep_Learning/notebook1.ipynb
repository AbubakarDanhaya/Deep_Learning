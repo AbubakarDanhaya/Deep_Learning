{
 "cells": [
  {
   "cell_type": "markdown",
   "id": "9cac9a76",
   "metadata": {},
   "source": [
    "# INTRODUCTION TO DEEP LEARNING WITH PYTORCH"
   ]
  },
  {
   "cell_type": "markdown",
   "id": "4bc990ea",
   "metadata": {},
   "source": [
    ">In this notebook, I am going to practice all what i have learnt for deep learning. "
   ]
  },
  {
   "cell_type": "markdown",
   "id": "9298f3be",
   "metadata": {},
   "source": [
    "#### `TENSOR`\n",
    "\n",
    " * Similar to array or matrix\n",
    " * Building block of neural network"
   ]
  },
  {
   "cell_type": "code",
   "execution_count": 1,
   "id": "7b6b624f",
   "metadata": {},
   "outputs": [
    {
     "name": "stdout",
     "output_type": "stream",
     "text": [
      "shape of the tensor: torch.Size([2, 3])\n",
      "dtype of the tensor: torch.int64\n"
     ]
    }
   ],
   "source": [
    "# import libraries\n",
    "import torch\n",
    "\n",
    "my_list = [[1, 2, 3], [4, 5, 6]]\n",
    "tensor = torch.tensor(my_list)\n",
    "\n",
    "print(\"shape of the tensor:\", tensor.shape)\n",
    "print(\"dtype of the tensor:\", tensor.dtype)"
   ]
  },
  {
   "cell_type": "markdown",
   "id": "ebf71f5a",
   "metadata": {},
   "source": [
    "#### `Single Linear Layer`"
   ]
  },
  {
   "cell_type": "code",
   "execution_count": 2,
   "id": "5b55dd00",
   "metadata": {},
   "outputs": [
    {
     "name": "stdout",
     "output_type": "stream",
     "text": [
      "tensor([[0.0606, 0.1104]], grad_fn=<AddmmBackward0>)\n"
     ]
    }
   ],
   "source": [
    "import torch.nn as nn\n",
    "\n",
    "input_tensor = torch.tensor([[0.3471, 0.4547, -0.2356]])\n",
    "\n",
    "linear_layer = nn.Linear(in_features = 3,\n",
    "                         out_features= 2)\n",
    "output = linear_layer(input_tensor)\n",
    "print(output)"
   ]
  },
  {
   "cell_type": "code",
   "execution_count": null,
   "id": "d857acb6",
   "metadata": {},
   "outputs": [],
   "source": []
  }
 ],
 "metadata": {
  "kernelspec": {
   "display_name": "base",
   "language": "python",
   "name": "python3"
  },
  "language_info": {
   "codemirror_mode": {
    "name": "ipython",
    "version": 3
   },
   "file_extension": ".py",
   "mimetype": "text/x-python",
   "name": "python",
   "nbconvert_exporter": "python",
   "pygments_lexer": "ipython3",
   "version": "3.12.7"
  }
 },
 "nbformat": 4,
 "nbformat_minor": 5
}
