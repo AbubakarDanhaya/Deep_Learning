{
 "cells": [
  {
   "cell_type": "markdown",
   "id": "120e9f94",
   "metadata": {},
   "source": [
    "# Traing Neural Network"
   ]
  },
  {
   "cell_type": "code",
   "execution_count": 3,
   "id": "1ea4410f",
   "metadata": {},
   "outputs": [
    {
     "name": "stdout",
     "output_type": "stream",
     "text": [
      "  animal_name  hair  feathers  eggs  milk  predator  legs  tail  type\n",
      "0     sparrow     0         1     1     0         0     2     1     0\n",
      "1       eagle     0         1     1     0         1     2     1     0\n",
      "2         cat     1         0     0     1         1     4     1     1\n",
      "3         dog     1         0     0     1         0     4     1     1\n",
      "4      lizard     0         0     0     0         1     4     1     2\n"
     ]
    }
   ],
   "source": [
    "import pandas as pd\n",
    "\n",
    "animals = pd.DataFrame({\n",
    "    \"animal_name\": [\"sparrow\", \"eagle\", \"cat\", \"dog\", \"lizard\"],\n",
    "    \"hair\": [0, 0, 1, 1, 0],\n",
    "    \"feathers\": [1, 1, 0, 0, 0],\n",
    "    \"eggs\": [1, 1, 0, 0, 0],\n",
    "    \"milk\": [0, 0, 1, 1, 0],\n",
    "    \"predator\": [0, 1, 1, 0, 1],\n",
    "    \"legs\": [2, 2, 4, 4, 4],\n",
    "    \"tail\": [1, 1, 1, 1,1],\n",
    "    \"type\": [0, 0, 1, 1, 2]\n",
    "})\n",
    "\n",
    "print(animals)"
   ]
  },
  {
   "cell_type": "markdown",
   "id": "97a72e51",
   "metadata": {},
   "source": [
    "### `Loading Data with TensorDataset`"
   ]
  },
  {
   "cell_type": "code",
   "execution_count": 5,
   "id": "3646b0c5",
   "metadata": {},
   "outputs": [
    {
     "name": "stdout",
     "output_type": "stream",
     "text": [
      "Input sample: tensor([0, 1, 1, 0, 0, 2, 1])\n",
      "label sample: tensor(0)\n"
     ]
    }
   ],
   "source": [
    "import torch\n",
    "from torch.utils.data import TensorDataset\n",
    "import numpy as np\n",
    "\n",
    "X = animals.iloc[:, 1:-1].to_numpy()\n",
    "y = animals.iloc[:, -1].to_numpy()\n",
    "\n",
    "#create a Dataset\n",
    "dataset = TensorDataset(torch.tensor(X), torch.tensor(y))\n",
    "\n",
    "input_sample, label_sample = dataset[0]\n",
    "print(\"Input sample:\", input_sample)\n",
    "print(\"label sample:\", label_sample)"
   ]
  },
  {
   "cell_type": "code",
   "execution_count": null,
   "id": "09fe436c",
   "metadata": {},
   "outputs": [],
   "source": []
  }
 ],
 "metadata": {
  "kernelspec": {
   "display_name": "base",
   "language": "python",
   "name": "python3"
  },
  "language_info": {
   "codemirror_mode": {
    "name": "ipython",
    "version": 3
   },
   "file_extension": ".py",
   "mimetype": "text/x-python",
   "name": "python",
   "nbconvert_exporter": "python",
   "pygments_lexer": "ipython3",
   "version": "3.12.7"
  }
 },
 "nbformat": 4,
 "nbformat_minor": 5
}
