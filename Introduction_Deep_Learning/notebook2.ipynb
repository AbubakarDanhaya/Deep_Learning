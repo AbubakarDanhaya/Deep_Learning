{
 "cells": [
  {
   "cell_type": "markdown",
   "id": "120e9f94",
   "metadata": {},
   "source": [
    "# Traing Neural Network"
   ]
  },
  {
   "cell_type": "code",
   "execution_count": 2,
   "id": "1ea4410f",
   "metadata": {},
   "outputs": [
    {
     "name": "stdout",
     "output_type": "stream",
     "text": [
      "  animal_name  hair  feathers  eggs  milk  predator  legs  tail  type\n",
      "0     sparrow     0         1     1     0         0     2     1     0\n",
      "1       eagle     0         1     1     0         1     2     1     0\n",
      "2         cat     1         0     0     1         1     4     1     1\n",
      "3         dog     1         0     0     1         0     4     1     1\n",
      "4      lizard     0         0     0     0         1     4     1     2\n"
     ]
    }
   ],
   "source": [
    "import pandas as pd\n",
    "\n",
    "animals = pd.DataFrame({\n",
    "    \"animal_name\": [\"sparrow\", \"eagle\", \"cat\", \"dog\", \"lizard\"],\n",
    "    \"hair\": [0, 0, 1, 1, 0],\n",
    "    \"feathers\": [1, 1, 0, 0, 0],\n",
    "    \"eggs\": [1, 1, 0, 0, 0],\n",
    "    \"milk\": [0, 0, 1, 1, 0],\n",
    "    \"predator\": [0, 1, 1, 0, 1],\n",
    "    \"legs\": [2, 2, 4, 4, 4],\n",
    "    \"tail\": [1, 1, 1, 1,1],\n",
    "    \"type\": [0, 0, 1, 1, 2]\n",
    "})\n",
    "\n",
    "print(animals)"
   ]
  },
  {
   "cell_type": "markdown",
   "id": "97a72e51",
   "metadata": {},
   "source": [
    "### `Loading Data with TensorDataset`"
   ]
  },
  {
   "cell_type": "code",
   "execution_count": 3,
   "id": "3646b0c5",
   "metadata": {},
   "outputs": [
    {
     "name": "stdout",
     "output_type": "stream",
     "text": [
      "Input sample: tensor([0, 1, 1, 0, 0, 2, 1])\n",
      "label sample: tensor(0)\n"
     ]
    }
   ],
   "source": [
    "import torch\n",
    "from torch.utils.data import TensorDataset\n",
    "import numpy as np\n",
    "\n",
    "X = animals.iloc[:, 1:-1].to_numpy()\n",
    "y = animals.iloc[:, -1].to_numpy()\n",
    "\n",
    "#create a Dataset\n",
    "dataset = TensorDataset(torch.tensor(X), torch.tensor(y))\n",
    "\n",
    "input_sample, label_sample = dataset[0]\n",
    "print(\"Input sample:\", input_sample)\n",
    "print(\"label sample:\", label_sample)"
   ]
  },
  {
   "cell_type": "markdown",
   "id": "4189a2a8",
   "metadata": {},
   "source": [
    "### `Efficient Data Handling with DataLoader`"
   ]
  },
  {
   "cell_type": "code",
   "execution_count": 4,
   "id": "09fe436c",
   "metadata": {},
   "outputs": [
    {
     "name": "stdout",
     "output_type": "stream",
     "text": [
      "Batch inputs: tensor([0, 1])\n",
      "Batch labels: tensor([0, 1])\n",
      "Batch inputs: tensor([1, 2])\n",
      "Batch labels: tensor([1, 2])\n",
      "Batch inputs: tensor([0])\n",
      "Batch labels: tensor([0])\n"
     ]
    }
   ],
   "source": [
    "from torch.utils.data import DataLoader\n",
    "\n",
    "# Create a DataLoader\n",
    "dataloader = DataLoader(dataset, batch_size=2, shuffle=True)\n",
    "\n",
    "# Iterate over the dataloader\n",
    "for batch_inputs, batch_labels in dataloader:\n",
    "    print(\"Batch inputs:\", batch_labels)\n",
    "    print(\"Batch labels:\", batch_labels)\n"
   ]
  },
  {
   "cell_type": "markdown",
   "id": "5a9f06b6",
   "metadata": {},
   "source": [
    "### `Visualizing Data with PyTorch`"
   ]
  },
  {
   "cell_type": "code",
   "execution_count": 7,
   "id": "d8a43c38",
   "metadata": {},
   "outputs": [
    {
     "data": {
      "image/png": "[encoded data removed]",
      "text/plain": [
       "<Figure size 640x480 with 1 Axes>"
      ]
     },
     "metadata": {},
     "output_type": "display_data"
    }
   ],
   "source": [
    "import matplotlib.pyplot as plt\n",
    "\n",
    "# Assuming batch_inputs is a 2D tensor with features that can be visualized\n",
    "\n",
    "for batch_inputs, _ in dataloader:\n",
    "    plt.scatter(batch_inputs[:, 0], batch_inputs[:, 1])\n",
    "    plt.xlabel(\"Features 1\")\n",
    "    plt.ylabel(\"Features 2\")\n",
    "    plt.title(\"Data Batch Visualization\")\n",
    "    plt.show()\n",
    "    break"
   ]
  },
  {
   "cell_type": "code",
   "execution_count": null,
   "id": "6e1b8b41",
   "metadata": {},
   "outputs": [],
   "source": [
    "for epoch in "
   ]
  }
 ],
 "metadata": {
  "kernelspec": {
   "display_name": "base",
   "language": "python",
   "name": "python3"
  },
  "language_info": {
   "codemirror_mode": {
    "name": "ipython",
    "version": 3
   },
   "file_extension": ".py",
   "mimetype": "text/x-python",
   "name": "python",
   "nbconvert_exporter": "python",
   "pygments_lexer": "ipython3",
   "version": "3.12.7"
  }
 },
 "nbformat": 4,
 "nbformat_minor": 5
}
